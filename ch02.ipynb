{
	"cells": [
		{
			"cell_type": "code",
			"execution_count": 125,
			"metadata": {},
			"outputs": [
				{
					"data": {
						"text/plain": [
							"'Python Programming'"
						]
					},
					"execution_count": 125,
					"metadata": {},
					"output_type": "execute_result"
				}
			],
			"source": [
				"strval = 'Python Programming    '\n",
				"## strval has the additional spaces after values\n",
				"\n",
				"strval = strval.strip() # now, the spaces after string value have been stripped\n",
				"jls_extract_var = strval\n",
				"jls_extract_var\n"
			]
		}
	],
	"metadata": {
		"kernelspec": {
			"display_name": "base",
			"language": "python",
			"name": "python3"
		},
		"language_info": {
			"name": "python",
			"version": "3.12.4"
		}
	},
	"nbformat": 4,
	"nbformat_minor": 2
}

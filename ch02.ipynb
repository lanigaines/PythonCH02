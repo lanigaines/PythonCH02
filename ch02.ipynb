{
	"cells": [
		{
			"cell_type": "code",
			"execution_count": 124,
			"metadata": {},
			"outputs": [
				{
					"data": {
						"text/plain": [
							"'Python Programming'"
						]
					},
					"execution_count": 124,
					"metadata": {},
					"output_type": "execute_result"
				}
			],
			"source": [
				"strval = 'Python Programming    '\n",
				"## strval has the additional spaces after values\n",
				"\n",
				"strval = strval.strip() # now, the spaces after string value have been stripped\n",
				"jls_extract_var = strval\n",
				"jls_extract_var\n"
			]
		}
	],
	"metadata": {
		"language_info": {
			"name": "python"
		}
	},
	"nbformat": 4,
	"nbformat_minor": 2
}
